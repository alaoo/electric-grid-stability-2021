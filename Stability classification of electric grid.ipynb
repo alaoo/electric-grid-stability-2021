{
  "nbformat": 4,
  "nbformat_minor": 0,
  "metadata": {
    "colab": {
      "name": "logistic Regression Hamoye",
      "provenance": [],
      "collapsed_sections": [],
      "mount_file_id": "1ylqP0RtOV1E2zVtqAOpgMUoMHq-1gupq",
      "authorship_tag": "ABX9TyMy+RSma++sbUlyaWWR2I7m",
      "include_colab_link": true
    },
    "kernelspec": {
      "name": "python3",
      "display_name": "Python 3"
    },
    "language_info": {
      "name": "python"
    }
  },
  "cells": [
    {
      "cell_type": "markdown",
      "metadata": {
        "id": "view-in-github",
        "colab_type": "text"
      },
      "source": [
        "<a href=\"https://colab.research.google.com/github/alaoo/Hamoye-Regression/blob/main/logistic_Regression_Hamoye.ipynb\" target=\"_parent\"><img src=\"https://colab.research.google.com/assets/colab-badge.svg\" alt=\"Open In Colab\"/></a>"
      ]
    },
    {
      "cell_type": "code",
      "metadata": {
        "id": "GkbT0I8i6BUI"
      },
      "source": [
        "import pandas as pd\n",
        "import numpy as np\n",
        "import matplotlib.pyplot as plt\n",
        "import seaborn as sns"
      ],
      "execution_count": 2,
      "outputs": []
    },
    {
      "cell_type": "code",
      "metadata": {
        "id": "HjfU7MQR-Nec"
      },
      "source": [
        "data=pd.read_csv('/content/drive/MyDrive/Colab Notebooks/Data_for_UCI_named.csv')"
      ],
      "execution_count": 4,
      "outputs": []
    },
    {
      "cell_type": "code",
      "metadata": {
        "colab": {
          "base_uri": "https://localhost:8080/"
        },
        "id": "VwHfMDM6_CoS",
        "outputId": "83836afc-fa6d-4a11-8ceb-967ad4c6615f"
      },
      "source": [
        "data.head"
      ],
      "execution_count": 5,
      "outputs": [
        {
          "output_type": "execute_result",
          "data": {
            "text/plain": [
              "<bound method NDFrame.head of           tau1      tau2      tau3  ...        g4      stab     stabf\n",
              "0     2.959060  3.079885  8.381025  ...  0.958034  0.055347  unstable\n",
              "1     9.304097  4.902524  3.047541  ...  0.781760 -0.005957    stable\n",
              "2     8.971707  8.848428  3.046479  ...  0.109853  0.003471  unstable\n",
              "3     0.716415  7.669600  4.486641  ...  0.362718  0.028871  unstable\n",
              "4     3.134112  7.608772  4.943759  ...  0.820923  0.049860  unstable\n",
              "...        ...       ...       ...  ...       ...       ...       ...\n",
              "9995  2.930406  9.487627  2.376523  ...  0.608385  0.023892  unstable\n",
              "9996  3.392299  1.274827  2.954947  ...  0.366120 -0.025803    stable\n",
              "9997  2.364034  2.842030  8.776391  ...  0.145984 -0.031810    stable\n",
              "9998  9.631511  3.994398  2.757071  ...  0.818391  0.037789  unstable\n",
              "9999  6.530527  6.781790  4.349695  ...  0.942631  0.045263  unstable\n",
              "\n",
              "[10000 rows x 14 columns]>"
            ]
          },
          "metadata": {},
          "execution_count": 5
        }
      ]
    },
    {
      "cell_type": "code",
      "metadata": {
        "id": "kguEeKZ9_ZR0"
      },
      "source": [
        "df = data.drop('stab', axis=1)"
      ],
      "execution_count": 6,
      "outputs": []
    },
    {
      "cell_type": "code",
      "metadata": {
        "colab": {
          "base_uri": "https://localhost:8080/",
          "height": 206
        },
        "id": "Gdk4L6ASSj1e",
        "outputId": "3045f80e-ff69-416f-948a-ff8920848d26"
      },
      "source": [
        "df.head()"
      ],
      "execution_count": 7,
      "outputs": [
        {
          "output_type": "execute_result",
          "data": {
            "text/html": [
              "<div>\n",
              "<style scoped>\n",
              "    .dataframe tbody tr th:only-of-type {\n",
              "        vertical-align: middle;\n",
              "    }\n",
              "\n",
              "    .dataframe tbody tr th {\n",
              "        vertical-align: top;\n",
              "    }\n",
              "\n",
              "    .dataframe thead th {\n",
              "        text-align: right;\n",
              "    }\n",
              "</style>\n",
              "<table border=\"1\" class=\"dataframe\">\n",
              "  <thead>\n",
              "    <tr style=\"text-align: right;\">\n",
              "      <th></th>\n",
              "      <th>tau1</th>\n",
              "      <th>tau2</th>\n",
              "      <th>tau3</th>\n",
              "      <th>tau4</th>\n",
              "      <th>p1</th>\n",
              "      <th>p2</th>\n",
              "      <th>p3</th>\n",
              "      <th>p4</th>\n",
              "      <th>g1</th>\n",
              "      <th>g2</th>\n",
              "      <th>g3</th>\n",
              "      <th>g4</th>\n",
              "      <th>stabf</th>\n",
              "    </tr>\n",
              "  </thead>\n",
              "  <tbody>\n",
              "    <tr>\n",
              "      <th>0</th>\n",
              "      <td>2.959060</td>\n",
              "      <td>3.079885</td>\n",
              "      <td>8.381025</td>\n",
              "      <td>9.780754</td>\n",
              "      <td>3.763085</td>\n",
              "      <td>-0.782604</td>\n",
              "      <td>-1.257395</td>\n",
              "      <td>-1.723086</td>\n",
              "      <td>0.650456</td>\n",
              "      <td>0.859578</td>\n",
              "      <td>0.887445</td>\n",
              "      <td>0.958034</td>\n",
              "      <td>unstable</td>\n",
              "    </tr>\n",
              "    <tr>\n",
              "      <th>1</th>\n",
              "      <td>9.304097</td>\n",
              "      <td>4.902524</td>\n",
              "      <td>3.047541</td>\n",
              "      <td>1.369357</td>\n",
              "      <td>5.067812</td>\n",
              "      <td>-1.940058</td>\n",
              "      <td>-1.872742</td>\n",
              "      <td>-1.255012</td>\n",
              "      <td>0.413441</td>\n",
              "      <td>0.862414</td>\n",
              "      <td>0.562139</td>\n",
              "      <td>0.781760</td>\n",
              "      <td>stable</td>\n",
              "    </tr>\n",
              "    <tr>\n",
              "      <th>2</th>\n",
              "      <td>8.971707</td>\n",
              "      <td>8.848428</td>\n",
              "      <td>3.046479</td>\n",
              "      <td>1.214518</td>\n",
              "      <td>3.405158</td>\n",
              "      <td>-1.207456</td>\n",
              "      <td>-1.277210</td>\n",
              "      <td>-0.920492</td>\n",
              "      <td>0.163041</td>\n",
              "      <td>0.766689</td>\n",
              "      <td>0.839444</td>\n",
              "      <td>0.109853</td>\n",
              "      <td>unstable</td>\n",
              "    </tr>\n",
              "    <tr>\n",
              "      <th>3</th>\n",
              "      <td>0.716415</td>\n",
              "      <td>7.669600</td>\n",
              "      <td>4.486641</td>\n",
              "      <td>2.340563</td>\n",
              "      <td>3.963791</td>\n",
              "      <td>-1.027473</td>\n",
              "      <td>-1.938944</td>\n",
              "      <td>-0.997374</td>\n",
              "      <td>0.446209</td>\n",
              "      <td>0.976744</td>\n",
              "      <td>0.929381</td>\n",
              "      <td>0.362718</td>\n",
              "      <td>unstable</td>\n",
              "    </tr>\n",
              "    <tr>\n",
              "      <th>4</th>\n",
              "      <td>3.134112</td>\n",
              "      <td>7.608772</td>\n",
              "      <td>4.943759</td>\n",
              "      <td>9.857573</td>\n",
              "      <td>3.525811</td>\n",
              "      <td>-1.125531</td>\n",
              "      <td>-1.845975</td>\n",
              "      <td>-0.554305</td>\n",
              "      <td>0.797110</td>\n",
              "      <td>0.455450</td>\n",
              "      <td>0.656947</td>\n",
              "      <td>0.820923</td>\n",
              "      <td>unstable</td>\n",
              "    </tr>\n",
              "  </tbody>\n",
              "</table>\n",
              "</div>"
            ],
            "text/plain": [
              "       tau1      tau2      tau3  ...        g3        g4     stabf\n",
              "0  2.959060  3.079885  8.381025  ...  0.887445  0.958034  unstable\n",
              "1  9.304097  4.902524  3.047541  ...  0.562139  0.781760    stable\n",
              "2  8.971707  8.848428  3.046479  ...  0.839444  0.109853  unstable\n",
              "3  0.716415  7.669600  4.486641  ...  0.929381  0.362718  unstable\n",
              "4  3.134112  7.608772  4.943759  ...  0.656947  0.820923  unstable\n",
              "\n",
              "[5 rows x 13 columns]"
            ]
          },
          "metadata": {},
          "execution_count": 7
        }
      ]
    },
    {
      "cell_type": "code",
      "metadata": {
        "id": "NHSPVzoCS5_S"
      },
      "source": [
        "df['stabf'] = df['stabf'].replace({'unstable': 0, 'stable': 1})"
      ],
      "execution_count": 8,
      "outputs": []
    },
    {
      "cell_type": "code",
      "metadata": {
        "colab": {
          "base_uri": "https://localhost:8080/"
        },
        "id": "tAWLPK_EU7TY",
        "outputId": "6449b7c7-80cf-4c8d-addc-3696aaa9c9d6"
      },
      "source": [
        "df['stabf'].head()"
      ],
      "execution_count": 10,
      "outputs": [
        {
          "output_type": "execute_result",
          "data": {
            "text/plain": [
              "0    0\n",
              "1    1\n",
              "2    0\n",
              "3    0\n",
              "4    0\n",
              "Name: stabf, dtype: int64"
            ]
          },
          "metadata": {},
          "execution_count": 10
        }
      ]
    },
    {
      "cell_type": "code",
      "metadata": {
        "colab": {
          "base_uri": "https://localhost:8080/"
        },
        "id": "w65uMSQpViRs",
        "outputId": "9ddbd322-2d27-43d4-bd6c-1b836fe8ebdb"
      },
      "source": [
        "df['stabf'].shape"
      ],
      "execution_count": 11,
      "outputs": [
        {
          "output_type": "execute_result",
          "data": {
            "text/plain": [
              "(10000,)"
            ]
          },
          "metadata": {},
          "execution_count": 11
        }
      ]
    },
    {
      "cell_type": "code",
      "metadata": {
        "id": "8qZWV4ZWVnO1"
      },
      "source": [
        "from sklearn.preprocessing import StandardScaler\n",
        "from sklearn.ensemble import RandomForestClassifier, ExtraTreesClassifier\n",
        "from lightgbm import LGBMClassifier\n",
        "from sklearn.pipeline import Pipeline\n",
        "from sklearn.model_selection import train_test_split, RandomizedSearchCV\n",
        "from sklearn.metrics import make_scorer, confusion_matrix\n",
        "import xgboost as xgb\n",
        "\n",
        "seed = 1\n"
      ],
      "execution_count": 13,
      "outputs": []
    },
    {
      "cell_type": "code",
      "metadata": {
        "colab": {
          "base_uri": "https://localhost:8080/"
        },
        "id": "VwJh_yl8VrHt",
        "outputId": "9c5e25cb-296b-4123-b047-fcb414029d45"
      },
      "source": [
        "X = df.drop('stabf', axis=1)\n",
        "y = df['stabf']\n",
        "\n",
        "X_train, X_test, y_train, y_test = train_test_split(X, y, test_size=0.2, random_state=1)\n",
        "\n",
        "y.value_counts()"
      ],
      "execution_count": 14,
      "outputs": [
        {
          "output_type": "execute_result",
          "data": {
            "text/plain": [
              "0    6380\n",
              "1    3620\n",
              "Name: stabf, dtype: int64"
            ]
          },
          "metadata": {},
          "execution_count": 14
        }
      ]
    },
    {
      "cell_type": "code",
      "metadata": {
        "colab": {
          "base_uri": "https://localhost:8080/"
        },
        "id": "qiAC0j7JWNBp",
        "outputId": "3e481875-ccaf-4800-90d5-6823e64f198c"
      },
      "source": [
        "scaler = StandardScaler()\n",
        "X_train = pd.DataFrame(scaler.fit_transform(X_train), columns=X_train.columns)\n",
        "X_test = pd.DataFrame(scaler.transform(X_test), columns=X_train.columns)\n",
        "\n",
        "rf_clf = RandomForestClassifier(random_state=1)\n",
        "rf_clf.fit(X_train, y_train)\n",
        "\n",
        "y_pred_rf = rf_clf.predict(X_test)\n",
        "print(rf_clf.score(X_test, y_test))\n",
        "cm = confusion_matrix(y_test, y_pred_rf)\n",
        "cm"
      ],
      "execution_count": 16,
      "outputs": [
        {
          "output_type": "stream",
          "name": "stdout",
          "text": [
            "0.9295\n"
          ]
        },
        {
          "output_type": "execute_result",
          "data": {
            "text/plain": [
              "array([[1238,   50],\n",
              "       [  91,  621]])"
            ]
          },
          "metadata": {},
          "execution_count": 16
        }
      ]
    },
    {
      "cell_type": "code",
      "metadata": {
        "colab": {
          "base_uri": "https://localhost:8080/"
        },
        "id": "dKiOpoAtWu96",
        "outputId": "cd252a35-ee26-4512-e28d-d55ef40383df"
      },
      "source": [
        "Ex_clf = ExtraTreesClassifier(random_state=1)\n",
        "Ex_clf.fit(X_train, y_train)\n",
        "\n",
        "y_pred_Ex = Ex_clf.predict(X_test)\n",
        "print(Ex_clf.score(X_test, y_test))\n",
        "cm_Ex = confusion_matrix(y_test, y_pred_Ex)\n",
        "cm_Ex"
      ],
      "execution_count": 21,
      "outputs": [
        {
          "output_type": "stream",
          "name": "stdout",
          "text": [
            "0.9285\n"
          ]
        },
        {
          "output_type": "execute_result",
          "data": {
            "text/plain": [
              "array([[1257,   31],\n",
              "       [ 112,  600]])"
            ]
          },
          "metadata": {},
          "execution_count": 21
        }
      ]
    },
    {
      "cell_type": "code",
      "metadata": {
        "colab": {
          "base_uri": "https://localhost:8080/"
        },
        "id": "Vp41lrA3XYFm",
        "outputId": "0087a38e-5698-437a-fb0a-65de85e792ef"
      },
      "source": [
        "xgb_clf = xgb.XGBClassifier(seed=seed)\n",
        "xgb_clf.fit(X_train, y_train)\n",
        "\n",
        "y_pred_xgb = xgb_clf.predict(X_test)\n",
        "print(xgb_clf.score(X_test, y_test))\n",
        "cm_xgb = confusion_matrix(y_test, y_pred_xgb)\n",
        "cm_xgb"
      ],
      "execution_count": 23,
      "outputs": [
        {
          "output_type": "stream",
          "name": "stdout",
          "text": [
            "0.9195\n"
          ]
        },
        {
          "output_type": "execute_result",
          "data": {
            "text/plain": [
              "array([[1236,   52],\n",
              "       [ 109,  603]])"
            ]
          },
          "metadata": {},
          "execution_count": 23
        }
      ]
    },
    {
      "cell_type": "code",
      "metadata": {
        "colab": {
          "base_uri": "https://localhost:8080/"
        },
        "id": "F4iMmbMlaDPv",
        "outputId": "138a7bd7-9ba1-4ee2-baaa-f1057f5d946e"
      },
      "source": [
        "lgbm_clf = LGBMClassifier(seed=seed)\n",
        "lgbm_clf.fit(X_train, y_train)\n",
        "\n",
        "y_pred_lgbm = lgbm_clf.predict(X_test)\n",
        "print(lgbm_clf.score(X_test, y_test))\n",
        "cm_lgbm = confusion_matrix(y_test, y_pred_lgbm)\n",
        "cm_lgbm"
      ],
      "execution_count": 25,
      "outputs": [
        {
          "output_type": "stream",
          "name": "stdout",
          "text": [
            "0.9375\n"
          ]
        },
        {
          "output_type": "execute_result",
          "data": {
            "text/plain": [
              "array([[1240,   48],\n",
              "       [  77,  635]])"
            ]
          },
          "metadata": {},
          "execution_count": 25
        }
      ]
    },
    {
      "cell_type": "code",
      "metadata": {
        "colab": {
          "base_uri": "https://localhost:8080/"
        },
        "id": "DaZXxeVxbJ9r",
        "outputId": "0616fedb-b78d-418b-8949-d254a7747f67"
      },
      "source": [
        "n_estimators = [50, 100, 300, 500, 1000]\n",
        "\n",
        "min_samples_split = [2, 3, 5, 7, 9]\n",
        "\n",
        "min_samples_leaf = [1, 2, 4, 6, 8]\n",
        "\n",
        "max_features = ['auto', 'sqrt', 'log2', None]\n",
        "\n",
        "hyperparameter_grid = {'n_estimators': n_estimators,\n",
        "\n",
        "'min_samples_leaf': min_samples_leaf,\n",
        "\n",
        "'min_samples_split': min_samples_split,\n",
        "\n",
        "'max_features': max_features}\n",
        "\n",
        "ex2 = ExtraTreesClassifier(random_state=1)\n",
        "\n",
        "random_cv = RandomizedSearchCV(ex2, param_distributions=hyperparameter_grid, scoring='accuracy', n_iter=10, cv=5, \n",
        "                                   verbose=1, n_jobs=-1, random_state=1)\n",
        "\n",
        "random_cv.fit(X_train, y_train)\n",
        "\n",
        "print(random_cv.best_params_)"
      ],
      "execution_count": 26,
      "outputs": [
        {
          "output_type": "stream",
          "name": "stdout",
          "text": [
            "Fitting 5 folds for each of 10 candidates, totalling 50 fits\n"
          ]
        },
        {
          "output_type": "stream",
          "name": "stderr",
          "text": [
            "[Parallel(n_jobs=-1)]: Using backend LokyBackend with 2 concurrent workers.\n",
            "[Parallel(n_jobs=-1)]: Done  46 tasks      | elapsed:  1.1min\n",
            "[Parallel(n_jobs=-1)]: Done  50 out of  50 | elapsed:  1.2min finished\n"
          ]
        },
        {
          "output_type": "stream",
          "name": "stdout",
          "text": [
            "{'n_estimators': 1000, 'min_samples_split': 2, 'min_samples_leaf': 8, 'max_features': None}\n"
          ]
        }
      ]
    },
    {
      "cell_type": "code",
      "metadata": {
        "colab": {
          "base_uri": "https://localhost:8080/"
        },
        "id": "1yrojAU1byBY",
        "outputId": "7edd21a5-3336-4b16-a979-8bf04c6c4d2f"
      },
      "source": [
        "print(random_cv.best_score_)\n",
        "print(dict(zip(X_train.columns,random_cv.best_estimator_.feature_importances_)))\n",
        "print(dict(zip(X_train.columns, Ex_clf.feature_importances_)))"
      ],
      "execution_count": 29,
      "outputs": [
        {
          "output_type": "stream",
          "name": "stdout",
          "text": [
            "0.9241249999999999\n",
            "{'tau1': 0.13723974766109256, 'tau2': 0.14050750384993677, 'tau3': 0.13468028520386593, 'tau4': 0.1354167630909727, 'p1': 0.003683422151688322, 'p2': 0.005336864710946151, 'p3': 0.005429268421191957, 'p4': 0.004962486591192238, 'g1': 0.10256244080927947, 'g2': 0.10757764577478764, 'g3': 0.11306267999167334, 'g4': 0.10954089174337298}\n",
            "{'tau1': 0.11739736493320078, 'tau2': 0.11844468079199041, 'tau3': 0.11316851246674982, 'tau4': 0.11546569217199552, 'p1': 0.039506754233827476, 'p2': 0.04037131556379323, 'p3': 0.040706278296424536, 'p4': 0.040578638540044426, 'g1': 0.08978290601483987, 'g2': 0.09367635844551439, 'g3': 0.09688268324346265, 'g4': 0.09401881529815702}\n"
          ]
        }
      ]
    },
    {
      "cell_type": "code",
      "metadata": {
        "id": "sg86l8LceFuV"
      },
      "source": [
        ""
      ],
      "execution_count": null,
      "outputs": []
    }
  ]
}